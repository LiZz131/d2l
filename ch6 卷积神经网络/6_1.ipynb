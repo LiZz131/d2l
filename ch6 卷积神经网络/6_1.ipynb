{
 "cells": [
  {
   "cell_type": "markdown",
   "id": "ff178d63-8b94-4cc8-94de-09b0086750f6",
   "metadata": {},
   "source": [
    "\n",
    "两个原则：\n",
    "- 平移不变性\n",
    "- 局部性\n",
    "\n",
    "重新考察全连接层，是不是能从全连接层出发应用这两个原则，得到卷积\n"
   ]
  },
  {
   "cell_type": "code",
   "execution_count": 2,
   "id": "db96c980-9f59-4b0e-afbd-9911f8b4fb4b",
   "metadata": {},
   "outputs": [],
   "source": [
    "# 互相关运算\n",
    "import torch\n",
    "from torch import nn\n",
    "from d2l import torch as d2l\n",
    "\n",
    "def corr2d(X, K):\n",
    "    \"\"\"计算二维互相关运算\"\"\"\n",
    "    h, w = K.shape\n",
    "    Y = torch.zeros((X.shape[0] - h + 1,X.shape[1] - w + 1))\n",
    "    for i in range(Y.shape[0]):\n",
    "        for j in range(Y.shape[1]):\n",
    "            Y[i, j] = (X[i:i + h, j:j + w] * K).sum()\n",
    "    return Y"
   ]
  },
  {
   "cell_type": "code",
   "execution_count": 4,
   "id": "d5ff5c75-a6cc-4535-ad73-526c9144596d",
   "metadata": {},
   "outputs": [
    {
     "data": {
      "text/plain": [
       "tensor([[19., 25.],\n",
       "        [37., 43.]])"
      ]
     },
     "execution_count": 4,
     "metadata": {},
     "output_type": "execute_result"
    }
   ],
   "source": [
    "# 验证\n",
    "X = torch.tensor([[0,1,2], [3,4,5], [6,7,8]])\n",
    "K = torch.tensor([[0, 1], [2, 3]])\n",
    "corr2d(X, K)"
   ]
  },
  {
   "cell_type": "markdown",
   "id": "d15f68cd-f2b6-4f5a-b8ca-132b4f3456ea",
   "metadata": {},
   "source": [
    "## 实现二维卷积层"
   ]
  },
  {
   "cell_type": "code",
   "execution_count": 6,
   "id": "0fe44aa7-1977-4ac0-a575-cdf25c531d3d",
   "metadata": {},
   "outputs": [],
   "source": [
    "class Conv2D(nn.Module):\n",
    "    def __init__(self, kernel_size):\n",
    "        super().__init__()\n",
    "        self.weight = nn.Parameter(torch.rand(kernel_size))\n",
    "        self.bias = nn.Parameter(torch.zeros(1))\n",
    "\n",
    "    def forward(self, x):\n",
    "        return corr2d(x, self.weight) + self.bias\n",
    "        # 这里的加法逐个元素运算"
   ]
  },
  {
   "cell_type": "markdown",
   "id": "ad879e0d-04d5-419a-8ef7-fe3223397144",
   "metadata": {},
   "source": [
    "## 卷积层的一个简单应用：\n",
    "检测图像中不同颜色的边缘"
   ]
  },
  {
   "cell_type": "code",
   "execution_count": 7,
   "id": "5b1b9bea-5b5c-4706-8e02-f730f393061f",
   "metadata": {},
   "outputs": [
    {
     "data": {
      "text/plain": [
       "tensor([[1., 1., 0., 0., 0., 0., 1., 1.],\n",
       "        [1., 1., 0., 0., 0., 0., 1., 1.],\n",
       "        [1., 1., 0., 0., 0., 0., 1., 1.],\n",
       "        [1., 1., 0., 0., 0., 0., 1., 1.],\n",
       "        [1., 1., 0., 0., 0., 0., 1., 1.],\n",
       "        [1., 1., 0., 0., 0., 0., 1., 1.]])"
      ]
     },
     "execution_count": 7,
     "metadata": {},
     "output_type": "execute_result"
    }
   ],
   "source": [
    "X = torch.ones((6, 8))\n",
    "X[:, 2:6] = 0\n",
    "X"
   ]
  },
  {
   "cell_type": "code",
   "execution_count": 8,
   "id": "19f9b3f8-9bca-4f4e-86f6-c04e08faa140",
   "metadata": {},
   "outputs": [],
   "source": [
    "K = torch.tensor([[1.0, -1.0]])"
   ]
  },
  {
   "cell_type": "code",
   "execution_count": 9,
   "id": "dfa1771c-2d43-45e9-9194-e5a35ff60de2",
   "metadata": {},
   "outputs": [
    {
     "data": {
      "text/plain": [
       "tensor([[ 0.,  1.,  0.,  0.,  0., -1.,  0.],\n",
       "        [ 0.,  1.,  0.,  0.,  0., -1.,  0.],\n",
       "        [ 0.,  1.,  0.,  0.,  0., -1.,  0.],\n",
       "        [ 0.,  1.,  0.,  0.,  0., -1.,  0.],\n",
       "        [ 0.,  1.,  0.,  0.,  0., -1.,  0.],\n",
       "        [ 0.,  1.,  0.,  0.,  0., -1.,  0.]])"
      ]
     },
     "execution_count": 9,
     "metadata": {},
     "output_type": "execute_result"
    }
   ],
   "source": [
    "Y = corr2d(X, K)\n",
    "Y"
   ]
  },
  {
   "cell_type": "code",
   "execution_count": 10,
   "id": "dfd4284a-cfe4-44bd-92ca-c66e7a3fac54",
   "metadata": {},
   "outputs": [],
   "source": [
    "# 上面的卷积核只可以检测垂直边缘\n"
   ]
  },
  {
   "cell_type": "code",
   "execution_count": 11,
   "id": "1e1db08e-337d-4c95-8476-7afce5e3352c",
   "metadata": {},
   "outputs": [
    {
     "name": "stdout",
     "output_type": "stream",
     "text": [
      "batch 2, loss 16.123\n",
      "batch 4, loss 5.411\n",
      "batch 6, loss 2.016\n",
      "batch 8, loss 0.792\n",
      "batch 10, loss 0.319\n"
     ]
    }
   ],
   "source": [
    "conv2d = nn.Conv2d(1, 1, kernel_size=(1, 2), bias=False)\n",
    "\n",
    "X = X.reshape((1, 1, 6, 8))\n",
    "Y = Y.reshape((1, 1, 6, 7))\n",
    "\n",
    "for i in range(10):\n",
    "    Y_hat = conv2d(X)\n",
    "    l = (Y_hat - Y)**2\n",
    "    conv2d.zero_grad()\n",
    "    l.sum().backward()\n",
    "    conv2d.weight.data[:] -= 3e-2 * conv2d.weight.grad\n",
    "    if (i + 1) % 2 == 0:\n",
    "        print(f'batch {i + 1}, loss {l.sum():.3f}')"
   ]
  },
  {
   "cell_type": "code",
   "execution_count": 14,
   "id": "8d1b3299-79d3-49a6-85b6-0ad17790ec72",
   "metadata": {},
   "outputs": [
    {
     "data": {
      "text/plain": [
       "tensor([[ 0.9305],\n",
       "        [-1.0464]])"
      ]
     },
     "execution_count": 14,
     "metadata": {},
     "output_type": "execute_result"
    }
   ],
   "source": [
    "conv2d.weight.data.reshape(-1,1)"
   ]
  },
  {
   "cell_type": "code",
   "execution_count": 15,
   "id": "97abcb30-b0a2-4120-8597-dafa08f6c370",
   "metadata": {},
   "outputs": [],
   "source": [
    "# 对应书籍6.1和6.2的章节部分"
   ]
  },
  {
   "cell_type": "markdown",
   "id": "e0a5e237-e67f-4a45-abc9-23af3c53d4ac",
   "metadata": {},
   "source": [
    "练习与想法：\n",
    "1. 二维卷积层，可不可以同时使用2个不同尺寸的Kernel进行计算，计算出一个更合适的Kernel，提高性能：  这种是已经提出的方法\n",
    "2. 为什么感受野不是越大越好？\n",
    "3. 抖动太厉害： 批量大小放大， 改变学习率（减小？）"
   ]
  }
 ],
 "metadata": {
  "kernelspec": {
   "display_name": "Python 3 (ipykernel)",
   "language": "python",
   "name": "python3"
  },
  "language_info": {
   "codemirror_mode": {
    "name": "ipython",
    "version": 3
   },
   "file_extension": ".py",
   "mimetype": "text/x-python",
   "name": "python",
   "nbconvert_exporter": "python",
   "pygments_lexer": "ipython3",
   "version": "3.8.19"
  }
 },
 "nbformat": 4,
 "nbformat_minor": 5
}
