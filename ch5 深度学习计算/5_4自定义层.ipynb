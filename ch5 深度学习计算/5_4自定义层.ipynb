{
 "cells": [
  {
   "cell_type": "markdown",
   "id": "574cb9d4-4816-4766-b50d-609341e5deea",
   "metadata": {},
   "source": [
    "# 5.4 自定义层\n",
    "举例来说，研究人员发明了专门用于处理图像、文本、序列数据和执行动态规划的层。\n",
    "有时候，我们会遇到或发明一个在深度学习框架中还不存在的层"
   ]
  },
  {
   "cell_type": "markdown",
   "id": "73dbbbb7-1d7f-48ba-8d15-7a02cf230cf7",
   "metadata": {},
   "source": [
    "## 5.4.1 不带参数的层"
   ]
  },
  {
   "cell_type": "code",
   "execution_count": 20,
   "id": "26b28fbb-af9e-407c-9fd1-92a30fbf91a5",
   "metadata": {},
   "outputs": [],
   "source": [
    "import torch\n",
    "import torch.nn.functional as F\n",
    "from torch import nn\n",
    "\n",
    "\n",
    "class CenteredLayer(nn.Module):\n",
    "    \"\"\"从输入中减去均值\"\"\"\n",
    "    def __init__(self):\n",
    "        super().__init__()\n",
    "\n",
    "    def forward(self, X):\n",
    "        return X - X.mean()"
   ]
  },
  {
   "cell_type": "code",
   "execution_count": 21,
   "id": "6d4dcd9f-8055-49c0-9d06-137fcb48a125",
   "metadata": {},
   "outputs": [
    {
     "data": {
      "text/plain": [
       "tensor([-2., -1.,  0.,  1.,  2.])"
      ]
     },
     "execution_count": 21,
     "metadata": {},
     "output_type": "execute_result"
    }
   ],
   "source": [
    "layer = CenteredLayer()\n",
    "layer(torch.FloatTensor([1, 2, 3, 4, 5]))"
   ]
  },
  {
   "cell_type": "code",
   "execution_count": 22,
   "id": "c89bb838-df41-4845-8b72-61e8e873888a",
   "metadata": {},
   "outputs": [],
   "source": [
    "net = nn.Sequential(nn.Linear(8, 128), CenteredLayer())"
   ]
  },
  {
   "cell_type": "code",
   "execution_count": 23,
   "id": "b470eb18-e0d1-43c5-8ca4-cb98cfad5dc4",
   "metadata": {},
   "outputs": [
    {
     "data": {
      "text/plain": [
       "tensor(-3.7253e-09, grad_fn=<MeanBackward0>)"
      ]
     },
     "execution_count": 23,
     "metadata": {},
     "output_type": "execute_result"
    }
   ],
   "source": [
    "Y = net(torch.rand(4, 8))\n",
    "Y.mean()"
   ]
  },
  {
   "cell_type": "markdown",
   "id": "cd453de6-3be1-4629-9147-85e0294f9c6f",
   "metadata": {},
   "source": [
    "## 5.4.2 带参数的层\n",
    "我们可以使用内置函数来创建参数，这些函数提供一些基本的管理功能，比如管理访问、初始化、共享、保存和加载模型参数"
   ]
  },
  {
   "cell_type": "code",
   "execution_count": 24,
   "id": "033c8fb4-e3fa-4107-ac76-882b9eedc724",
   "metadata": {},
   "outputs": [],
   "source": [
    "class MyLinear(nn.Module):\n",
    "    def __init__(self, in_units, units):\n",
    "        super().__init__()\n",
    "        self.weight = nn.Parameter(torch.randn(in_units, units))\n",
    "        self.bias = nn.Parameter(torch.randn(units,))\n",
    "    def forward(self, X):\n",
    "        linear = torch.matmul(X, self.weight.data) + self.bias.data\n",
    "        return F.relu(linear)"
   ]
  },
  {
   "cell_type": "code",
   "execution_count": 25,
   "id": "a47354f7-9719-4d40-a912-9adb51774950",
   "metadata": {},
   "outputs": [
    {
     "data": {
      "text/plain": [
       "Parameter containing:\n",
       "tensor([[-0.5039,  0.1027, -0.4174],\n",
       "        [ 0.2472,  0.2713, -0.9121],\n",
       "        [-1.7167,  0.0529, -0.8661],\n",
       "        [ 0.1407, -1.4553, -0.0826],\n",
       "        [-1.6618, -0.9771, -1.7475]], requires_grad=True)"
      ]
     },
     "execution_count": 25,
     "metadata": {},
     "output_type": "execute_result"
    }
   ],
   "source": [
    "linear = MyLinear(5, 3)\n",
    "linear.weight"
   ]
  },
  {
   "cell_type": "code",
   "execution_count": 26,
   "id": "7603af49-cb45-4daa-9d06-12fd8f4359cd",
   "metadata": {},
   "outputs": [
    {
     "data": {
      "text/plain": [
       "tensor([[0., 0., 0.],\n",
       "        [0., 0., 0.]])"
      ]
     },
     "execution_count": 26,
     "metadata": {},
     "output_type": "execute_result"
    }
   ],
   "source": [
    "linear(torch.rand(2, 5))"
   ]
  },
  {
   "cell_type": "code",
   "execution_count": 27,
   "id": "bb8b1e70-6809-4d84-a561-3ba4a86045be",
   "metadata": {},
   "outputs": [
    {
     "data": {
      "text/plain": [
       "tensor([[0.0000],\n",
       "        [4.2325]])"
      ]
     },
     "execution_count": 27,
     "metadata": {},
     "output_type": "execute_result"
    }
   ],
   "source": [
    "# 我们可以利用自定义层，构建模型\n",
    "net = nn.Sequential(MyLinear(64, 8), MyLinear(8, 1))\n",
    "net(torch.rand(2, 64))"
   ]
  },
  {
   "cell_type": "markdown",
   "id": "dedf4a8c-e34a-45be-abe0-0ec962368666",
   "metadata": {},
   "source": [
    "## 练习"
   ]
  },
  {
   "cell_type": "code",
   "execution_count": 28,
   "id": "048f781b-39aa-4ae8-b3bd-f484d1505585",
   "metadata": {},
   "outputs": [],
   "source": [
    "# 设计一个接受输入并计算张量降维的层\n",
    "\n",
    "# 设计一个返回输入数据的傅立叶系数前半部分的层。"
   ]
  },
  {
   "cell_type": "code",
   "execution_count": null,
   "id": "ab59dc75-7ae8-4e18-88b7-eee21120cb8c",
   "metadata": {},
   "outputs": [],
   "source": []
  }
 ],
 "metadata": {
  "kernelspec": {
   "display_name": "Python 3 (ipykernel)",
   "language": "python",
   "name": "python3"
  },
  "language_info": {
   "codemirror_mode": {
    "name": "ipython",
    "version": 3
   },
   "file_extension": ".py",
   "mimetype": "text/x-python",
   "name": "python",
   "nbconvert_exporter": "python",
   "pygments_lexer": "ipython3",
   "version": "3.8.19"
  }
 },
 "nbformat": 4,
 "nbformat_minor": 5
}
